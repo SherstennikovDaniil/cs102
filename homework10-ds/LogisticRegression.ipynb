{
  "nbformat": 4,
  "nbformat_minor": 0,
  "metadata": {
    "colab": {
      "name": "LogisticRegression Даниил Шерстенников K3143.ipynb",
      "provenance": [],
      "include_colab_link": true
    },
    "interpreter": {
      "hash": "d805a9e6373947f65b005a1a540d1a2cb7a270651d8f9d5136ec2aa0e124bfaa"
    },
    "kernelspec": {
      "display_name": "Python 3.8.9 64-bit ('cs102': virtualenvwrapper)",
      "name": "python3"
    },
    "language_info": {
      "codemirror_mode": {
        "name": "ipython",
        "version": 3
      },
      "file_extension": ".py",
      "mimetype": "text/x-python",
      "name": "python",
      "nbconvert_exporter": "python",
      "pygments_lexer": "ipython3",
      "version": "3.8.9"
    }
  },
  "cells": [
    {
      "cell_type": "markdown",
      "metadata": {
        "id": "view-in-github",
        "colab_type": "text"
      },
      "source": [
        "<a href=\"https://colab.research.google.com/github/SherstennikovDaniil/cs102/blob/homework10/homework10-ds/LogisticRegression.ipynb\" target=\"_parent\"><img src=\"https://colab.research.google.com/assets/colab-badge.svg\" alt=\"Open In Colab\"/></a>"
      ]
    },
    {
      "cell_type": "markdown",
      "metadata": {
        "id": "SpmFslc-UdW0"
      },
      "source": [
        "### Классификация\n",
        "\n",
        "Вы уже встречались с задачей классификации в работе [«Персонализация новостной ленты Hacker News»](http://127.0.0.1:4000/2017/11/22/06-hackernews/). В общем виде задачу классификации можно представить следующим образом: имеется множество объектов, которые разделены на классы по некоторым признакам. Например, успевающие студенты и отстающие студенты. В обучающей выборке задано конечное множество объектов и их признаков. Например, перечень всех студентов учебного заведения и все оценки по прошедшим и текущим дисциплинам. Для каждого из объектов обучающей выборки известно, к каким классам они относятся. Принадлежность же остальных объектов к классам неизвестна. Требуется построить алгоритм, способный классифицировать произвольный объект из исходного множества, то есть указать наименование (или номер) класса, к которому объект отнесён в результате применения алгоритма классификации."
      ]
    },
    {
      "cell_type": "markdown",
      "metadata": {
        "id": "9paqCuHmowT9"
      },
      "source": [
        "### *Логистическая регрессия*\n",
        "\n",
        "Давайте рассмотрим логистическую регрессию на примере набора данных цветов ириса.\n",
        "\n",
        "Для простоты будем использовать только два признака `Sepal Width` и `Sepal Length`, а также два класса `Setosa` и `Versicolor`:"
      ]
    },
    {
      "cell_type": "code",
      "metadata": {
        "id": "Cv2EQj08UgId"
      },
      "source": [
        "import math\n",
        "import pandas as pd\n",
        "import numpy as np\n",
        "import matplotlib.pyplot as plt\n",
        "import seaborn as sns\n",
        "from sklearn import datasets\n",
        "%matplotlib inline"
      ],
      "execution_count": null,
      "outputs": []
    },
    {
      "cell_type": "code",
      "metadata": {
        "colab": {
          "base_uri": "https://localhost:8080/"
        },
        "id": "veHnjZ3gUkOo",
        "outputId": "47097424-1b39-4d5b-b30d-3d461d9c17c6"
      },
      "source": [
        "data = datasets.load_iris()\n",
        "X = data.data[:100, :2]\n",
        "y = data.target[:100]\n",
        "\n",
        "setosa = plt.scatter(X[:50,0], X[:50,1], c='b')\n",
        "versicolor = plt.scatter(X[50:,0], X[50:,1], c='r')\n",
        "plt.xlabel(\"Sepal Length\")\n",
        "plt.ylabel(\"Sepal Width\")\n",
        "plt.legend((setosa, versicolor), (\"Setosa\", \"Versicolor\"))\n",
        "sns.despine()"
      ],
      "execution_count": null,
      "outputs": [
        {
          "data": {
            "image/png": "[encoded data removed]",
            "text/plain": [
              "<Figure size 432x288 with 1 Axes>"
            ]
          },
          "metadata": {
            "needs_background": "light"
          },
          "output_type": "display_data"
        }
      ]
    },
    {
      "cell_type": "markdown",
      "metadata": {
        "id": "t3mH9SwHUlCL"
      },
      "source": [
        "Итак, наша задача построить разделяющую границу (decision boundary), которая бы позволила нам отделить наблюдения одного класса (`Setosa`) от другого (`Versicolor`). Одним из напрашиваемых решений является представление зависимой переменной в виде линейной комбинации признаков (по аналогии с линейной регрессией):\n",
        "\n",
        "$$\n",
        "y_i = \\theta_0 + \\theta_1 SW_{i} + \\theta_2 SL_{i}\n",
        "$$\n",
        "\n",
        "Предположим, что у нас есть наблюдение с признаками $SW = 3.5$ и $SL = 5$. И кто-то сказал нам, что $\\theta_0 = 1$, $\\theta_1 = 2$ и $\\theta_2 = 4$, тогда:\n",
        "\n",
        "$$\n",
        "y_i = 1 + 2 * 3.5 + 4 * 5 = 28\n",
        "$$\n",
        "\n",
        "Во-первых, как мы должны интерпретировать значене $28$? Во-вторых, модель в таком виде подходит для прогнозирования непрерывных значений, которые ограничены бесконечностью:\n",
        "\n",
        "$$\n",
        "-\\infty \\le \\theta^{T}x \\le +\\infty\n",
        "$$\n",
        "В действительности мы хотим построить модель, которая позволит нам прогнозировать бинарный отклик, а точнее вероятность отнесения наблюдения к одному из классов, то есть:\n",
        "$$\n",
        "P(y=1 \\mid x) = f(\\theta^{T}x)\n",
        "$$\n",
        "\n",
        "$$\n",
        "P(y=0 \\mid x) = 1 - f(\\theta^{T}x)\n",
        "$$\n",
        "\n",
        "Где:\n",
        "\n",
        "$$\n",
        "0 \\le f(\\theta^{T}x) \\le 1\n",
        "$$\n",
        "\n",
        "\n",
        "Такой функцией $f$ может быть **логистическая функция**:\n",
        "\n",
        "$$\n",
        "P(y = 1 \\mid x) = \\frac{e^{\\theta^{T}x}}{1 + e^{\\theta^{T}x}} = \\frac{1}{1 + e^{-\\theta^{T}x}}\n",
        "$$"
      ]
    },
    {
      "cell_type": "code",
      "metadata": {
        "colab": {
          "base_uri": "https://localhost:8080/"
        },
        "id": "VxDVo58qUpuW",
        "outputId": "11e0724d-2620-4d05-ca32-2af688e51d88"
      },
      "source": [
        "x_values = np.linspace(-5, 5, 100)\n",
        "y_values = [1 / (1 + math.e**(-x)) for x in x_values]\n",
        "plt.plot(x_values, y_values)\n",
        "plt.axhline(.5)\n",
        "plt.axvline(0)\n",
        "sns.despine()"
      ],
      "execution_count": null,
      "outputs": [
        {
          "data": {
            "image/png": "[encoded data removed]",
            "text/plain": [
              "<Figure size 432x288 with 1 Axes>"
            ]
          },
          "metadata": {
            "needs_background": "light"
          },
          "output_type": "display_data"
        }
      ]
    },
    {
      "cell_type": "markdown",
      "metadata": {
        "id": "em4XCtQYUuV-"
      },
      "source": [
        "Отметим, что значение вероятности, описываемое логистической функцией, ограничено диапазоном значений от 0 до 1, а также то, что большие изменения вероятности требуют больших изменений в $x$, чем для значений вероятности близких к 0.5.\n",
        "\n",
        "Возвращаясь к нашему примеру:\n",
        "\n",
        "$$\n",
        "P(y = 1 \\mid x) = \\frac{1}{1 + e^{-(\\theta_0 + \\theta_1 SW_{i} + \\theta_2 SL_{i})}} = \\frac{1}{1 + e^{-28}} = 0.99\n",
        "$$\n",
        "\n",
        "\n",
        "Таким образом, с вероятностью 0.99 мы можем отнести наше наблюдение к классу `Setosa`.\n",
        "\n",
        "Как мы будем находить параметры $\\theta_i$? Для начала нам необходимо определиться с видом целевой функции. Так как наша модель прогнозирует вероятности, то мы можем использовать принцип максимального правдоподобия.\n",
        "\n",
        "Для краткости, можем записать функцию распределения $y$ при заданном $x$ в следующем виде:\n",
        "\n",
        "$$\n",
        "P(y = y_i \\mid x) = P(y_i = 1 \\mid x_i)^{y_{i}} (1 - P(y_i = 1 \\mid x_i))^{1 - y_{i}}\n",
        "$$\n",
        "\n",
        "\n",
        "Фактически, это есть распределение Бернулли.\n",
        "\n",
        "В зависимости от значения $y$ одна из двух частей уравнения будет равна 1. \n",
        "\n",
        "Для $y=1$:\n",
        "\n",
        "$$\n",
        "P(y = 1 \\mid x) = P(y_i = 1 \\mid x_i)^1 (1 - P(y_i = 1 \\mid x_i))^{1 - 1} = P(y_i = 1 \\mid x_i)\n",
        "$$\n",
        "\n",
        "\n",
        "Для $y=0$:\n",
        "\n",
        "$$\n",
        "P(y = 0 \\mid x) = P(y_i = 1 \\mid x_i)^0 (1 - P(y_i = 1 \\mid x_i))^{1 - 0} = 1 - P(y_i = 1 \\mid x_i)\n",
        "$$\n",
        "\n",
        "\n",
        "Правдоподобие для $m$ наблюдений можно записать как:\n",
        "\n",
        "$$\n",
        "L = \\prod_{i=1}^{m}P(y = y_i \\mid x_i) = \\prod_{i=1}^{m}P(y = 1 \\mid x_i)^{y_i}(1 - P(y_i = 1 \\mid x_i))^{1 - y_i}\n",
        "$$\n",
        "\n",
        "$$\n",
        "\\log L = \\sum_{i=1}^{m} y_i \\times \\log(P(y = 1 \\mid x_i)) + (1 - y_i) \\times \\log(1 - P(y_i = 1 \\mid x_i))\n",
        "$$\n",
        "\n",
        "\n",
        "Введем обозначение:\n",
        "\n",
        "$$\n",
        "p_i = P(y = 1 \\mid x_i)\n",
        "$$\n",
        "\n",
        "Тогда функция правдоподобия может быть записана как:\n",
        "\n",
        "$$\n",
        "\\log L = \\sum_{i=1}^{m} y_i \\times \\log(p_i) + (1 - y_i) \\times \\log(1 - p_i))\n",
        "$$\n",
        "\n",
        "\n",
        "Таким образом, мы можем записать нашу целевую функцию:\n",
        "\n",
        "$$\n",
        "J(\\theta) = -\\frac{1}{m}\\sum_{i=1}^{m} y_i \\times \\log(p_i) + (1 - y_i) \\times \\log(1 - p_i))\n",
        "$$\n",
        "\n",
        "\n",
        "Чтобы найти параметры $\\theta$ мы можем воспользоваться методом градиентного спуска. Вспомним правило обновления весов:\n",
        "\n",
        "$$\n",
        "\\theta := \\theta - \\alpha \\frac{\\partial}{\\partial \\theta}J(\\theta)\n",
        "$$\n",
        "\n",
        "\n",
        "Где:\n",
        "$$\n",
        "\\frac{\\partial}{\\partial \\theta}J(\\theta)\n",
        "$$\n",
        "\n",
        "Вывод производных см. [тут](http://ronny.rest/blog/post_2017_08_12_logistic_regression_derivative/).\n",
        "</div>\n",
        "$$\n",
        "\\frac{\\partial}{\\partial \\theta}J(\\theta) = \\frac{1}{m}\\sum_{i=1}^{m}(h_{\\theta}(x^{(i)}) - y^{(i)})x^{(i)}\n",
        "$$\n",
        "\n",
        "\n",
        "$$\n",
        "h_{\\theta}(x) = f(\\theta^Tx) = \\frac{1}{1 + e^{-\\theta^{T}x}}\n",
        "$$\n",
        "\n",
        "$$\n",
        "f(z) = \\frac{1}{1 + e ^{-z}}\n",
        "$$\n",
        "\n",
        "\n",
        "В результате подстановки получим следующее правило для пересчета параметров $\\theta$:\n",
        "\n",
        "$$\n",
        "\\theta := \\theta - \\alpha\\frac{1}{m}\\sum_{i=1}^{m}(h_{\\theta}(x_i)-y_i)x_i\n",
        "$$"
      ]
    },
    {
      "cell_type": "markdown",
      "metadata": {
        "id": "Z3AvUgwQVc6U"
      },
      "source": [
        "### *Пример с использованием библиотеки sklearn*\n"
      ]
    },
    {
      "cell_type": "code",
      "metadata": {
        "colab": {
          "base_uri": "https://localhost:8080/"
        },
        "id": "M9jEpOEuVgH_",
        "outputId": "1b4021ab-523e-41ff-8b1c-58ceee653de9"
      },
      "source": [
        "from sklearn import linear_model\n",
        "from sklearn.model_selection import train_test_split\n",
        "X_train, X_test, y_train, y_test = train_test_split(X, y, test_size=0.3, random_state=17)\n",
        "\n",
        "model = linear_model.LogisticRegression()\n",
        "model.fit(X_train, y_train)\n",
        "y_pred = model.predict(X_test)\n",
        "sum(y_test == y_pred) # 30"
      ],
      "execution_count": null,
      "outputs": [
        {
          "data": {
            "text/plain": [
              "30"
            ]
          },
          "execution_count": 4,
          "metadata": {},
          "output_type": "execute_result"
        }
      ]
    },
    {
      "cell_type": "code",
      "metadata": {
        "colab": {
          "base_uri": "https://localhost:8080/"
        },
        "id": "htBAj6NkViqT",
        "outputId": "2320f1f8-ff21-4401-b290-f95a55e4d578"
      },
      "source": [
        "from sklearn.metrics import accuracy_score\n",
        "accuracy_score(y_test, y_pred) # 1"
      ],
      "execution_count": null,
      "outputs": [
        {
          "data": {
            "text/plain": [
              "1.0"
            ]
          },
          "execution_count": 5,
          "metadata": {},
          "output_type": "execute_result"
        }
      ]
    },
    {
      "cell_type": "markdown",
      "metadata": {
        "id": "c-iQa6UGVksz"
      },
      "source": [
        "Давайте рассмотрим другой пример, для которого сгенеируем набор данных из 10 тысяч наблюдений:"
      ]
    },
    {
      "cell_type": "code",
      "metadata": {
        "id": "N15wVaSdVmVx"
      },
      "source": [
        "from sklearn.datasets import make_classification\n",
        "\n",
        "X, y = make_classification(n_samples=10000, n_features=10, n_classes=2, n_informative=5, random_state=17)\n",
        "X_train, X_test, y_train, y_test = train_test_split(X, y, test_size=0.3, random_state=17)\n",
        "\n",
        "model = linear_model.LogisticRegression()\n",
        "model.fit(X_train, y_train)\n",
        "y_pred = model.predict(X_test)"
      ],
      "execution_count": null,
      "outputs": []
    },
    {
      "cell_type": "code",
      "metadata": {
        "colab": {
          "base_uri": "https://localhost:8080/"
        },
        "id": "1VKdLKGWVn9u",
        "outputId": "73b5ade5-5b2d-457e-9500-babadeb33fe4"
      },
      "source": [
        "sum(y_test == y_pred) # 2306"
      ],
      "execution_count": null,
      "outputs": [
        {
          "data": {
            "text/plain": [
              "2306"
            ]
          },
          "execution_count": 7,
          "metadata": {},
          "output_type": "execute_result"
        }
      ]
    },
    {
      "cell_type": "code",
      "metadata": {
        "colab": {
          "base_uri": "https://localhost:8080/"
        },
        "id": "t2-Z6C9yVubs",
        "outputId": "24031ec6-b929-44b3-e733-12402f3cfdb2"
      },
      "source": [
        "accuracy_score(y_test, y_pred) # 0.76866666666666672"
      ],
      "execution_count": null,
      "outputs": [
        {
          "data": {
            "text/plain": [
              "0.7686666666666667"
            ]
          },
          "execution_count": 8,
          "metadata": {},
          "output_type": "execute_result"
        }
      ]
    },
    {
      "cell_type": "markdown",
      "metadata": {
        "id": "HACf1T0mVy3J"
      },
      "source": [
        "Значение $0.7687$ ничего не говорит нам об ошибках [первого и второго рода](https://ru.wikipedia.org/wiki/%D0%9E%D1%88%D0%B8%D0%B1%D0%BA%D0%B8_%D0%BF%D0%B5%D1%80%D0%B2%D0%BE%D0%B3%D0%BE_%D0%B8_%D0%B2%D1%82%D0%BE%D1%80%D0%BE%D0%B3%D0%BE_%D1%80%D0%BE%D0%B4%D0%B0). Мы можем построить матрицу ошибок $C$, чтобы получить более полное представление."
      ]
    },
    {
      "cell_type": "code",
      "metadata": {
        "colab": {
          "base_uri": "https://localhost:8080/"
        },
        "id": "42bYnlrbVzof",
        "outputId": "e0741a88-0f2e-4712-8e86-6a41b554035e"
      },
      "source": [
        "from sklearn.metrics import confusion_matrix\n",
        "confusion_matrix(y_test, y_pred) # array([[1129,  363], [ 331, 1177]])"
      ],
      "execution_count": null,
      "outputs": [
        {
          "data": {
            "text/plain": [
              "array([[1129,  363],\n",
              "       [ 331, 1177]])"
            ]
          },
          "execution_count": 9,
          "metadata": {},
          "output_type": "execute_result"
        }
      ]
    },
    {
      "cell_type": "markdown",
      "metadata": {
        "id": "t87P9JFzV8Tc"
      },
      "source": [
        "где:\n",
        "\n",
        "- $C_{0,0} = 1129$ – True Negatives (TN), истинное значение 0, предсказанное 0\n",
        "- $C_{1,0} = 331$ – False Negatives (FN), истинное значение 1, предсказанное 0\n",
        "- $C_{0,1} = 363$ – False Positives (FP), истинное значение 0, предсказанное 1\n",
        "- $C_{1,1} = 1177$ – True Positives (TP), истинное значение 1, предсказанное 1\n",
        "\n",
        "И наконец мы можем построить ROC-кривую (https://dyakonov.org/2017/07/28/auc-roc-%D0%BF%D0%BB%D0%BE%D1%89%D0%B0%D0%B4%D1%8C-%D0%BF%D0%BE%D0%B4-%D0%BA%D1%80%D0%B8%D0%B2%D0%BE%D0%B9-%D0%BE%D1%88%D0%B8%D0%B1%D0%BE%D0%BA/) для визуальной оценки точности работы классификатора:"
      ]
    },
    {
      "cell_type": "code",
      "metadata": {
        "colab": {
          "base_uri": "https://localhost:8080/",
          "height": 295
        },
        "id": "rjPoHg7rWBbB",
        "outputId": "79527577-ebda-458c-c13b-aa734c57f3c8"
      },
      "source": [
        "from sklearn.metrics import roc_curve, auc\n",
        "\n",
        "def plot_roc_curve(y_pred, y_test):\n",
        "    fpr, tpr, _ = roc_curve(y_test, y_pred)\n",
        "    roc_auc = auc(fpr, tpr)\n",
        "    plt.figure()\n",
        "    plt.plot(fpr, tpr, color='darkorange', lw=2, label='ROC curve (area = %0.2f)' % roc_auc)\n",
        "    plt.plot([0, 1], [0, 1], color='navy', lw=2, linestyle='--')\n",
        "    plt.xlim([0.0, 1.0])\n",
        "    plt.ylim([0.0, 1.05])\n",
        "    plt.xlabel('False Positive Rate')\n",
        "    plt.ylabel('True Positive Rate')\n",
        "    plt.title('ROC Curve')\n",
        "    plt.legend(loc=\"lower right\")\n",
        "    plt.show()\n",
        "\n",
        "y_pred = model.predict_proba(X_test)[:,1]\n",
        "plot_roc_curve(y_pred, y_test)"
      ],
      "execution_count": null,
      "outputs": [
        {
          "data": {
            "image/png": "[encoded data removed]",
            "text/plain": [
              "<Figure size 432x288 with 1 Axes>"
            ]
          },
          "metadata": {
            "needs_background": "light"
          },
          "output_type": "display_data"
        }
      ]
    },
    {
      "cell_type": "markdown",
      "metadata": {
        "id": "xVu6O8BDWCJS"
      },
      "source": [
        "### *Многоклассовая классификация*"
      ]
    },
    {
      "cell_type": "code",
      "metadata": {
        "colab": {
          "base_uri": "https://localhost:8080/"
        },
        "id": "10JJVPZSWDpI",
        "outputId": "d7ef82fa-849f-4254-eb03-2184424cf1a9"
      },
      "source": [
        "data = datasets.load_iris()\n",
        "X = data.data\n",
        "y = data.target\n",
        "\n",
        "X_train, X_test, y_train, y_test = train_test_split(X, y, test_size=0.3, random_state=17)\n",
        "\n",
        "model = linear_model.LogisticRegression(multi_class='ovr')\n",
        "model.fit(X_train, y_train)\n",
        "\n",
        "y_pred = model.predict(X_test)\n",
        "print(sum(y_test == y_pred)) # 42\n",
        "print(accuracy_score(y_test, y_pred)) #0.93333333333333335\n",
        "print(confusion_matrix(y_test, y_pred)) # array([[12,  0,  0], [ 0, 16,  3], [ 0,  0, 14]])"
      ],
      "execution_count": null,
      "outputs": [
        {
          "name": "stdout",
          "output_type": "stream",
          "text": [
            "44\n",
            "0.9777777777777777\n",
            "[[12  0  0]\n",
            " [ 0 18  1]\n",
            " [ 0  0 14]]\n"
          ]
        }
      ]
    },
    {
      "cell_type": "code",
      "metadata": {
        "id": "Y37AQv0rWWhZ"
      },
      "source": [
        "def plot_roc_curve(y_predict_proba, y_test, n_classes=3):\n",
        "    # Compute ROC curve and ROC AUC for each class\n",
        "    n_classes = 3\n",
        "    fpr = {}\n",
        "    tpr = {}\n",
        "    roc_auc = {}\n",
        "    all_y_test_i = np.array([])\n",
        "    all_y_predict_proba = np.array([])\n",
        "\n",
        "    for i in range(n_classes):\n",
        "        y_test_i = [1 if yi == i else 0 for yi in y_test]\n",
        "        all_y_test_i = np.concatenate([all_y_test_i, y_test_i])\n",
        "        all_y_predict_proba = np.concatenate([all_y_predict_proba, y_predict_proba[:, i]])\n",
        "        fpr[i], tpr[i], _ = roc_curve(y_test_i, y_predict_proba[:, i])\n",
        "        roc_auc[i] = auc(fpr[i], tpr[i])\n",
        "    \n",
        "    # Compute micro-average ROC curve and ROC area\n",
        "    fpr[\"average\"], tpr[\"average\"], _ = roc_curve(all_y_test_i, all_y_predict_proba)\n",
        "    roc_auc[\"average\"] = auc(fpr[\"average\"], tpr[\"average\"])\n",
        "\n",
        "    # Plot average ROC Curve\n",
        "    plt.figure()\n",
        "    plt.plot(fpr[\"average\"], tpr[\"average\"],\n",
        "        label='Average ROC curve (area = {0:0.2f})'.format(roc_auc[\"average\"]),\n",
        "        color='deeppink', linestyle=':', linewidth=4)\n",
        "\n",
        "    # Plot each individual ROC curve\n",
        "    for i in range(n_classes):\n",
        "        plt.plot(fpr[i], tpr[i], lw=2, label='ROC curve of class {0} (area = {1:0.2f})'.format(i, roc_auc[i]))\n",
        "\n",
        "    plt.plot([0, 1], [0, 1], 'k--', lw=2)\n",
        "    plt.xlim([0.0, 1.0])\n",
        "    plt.ylim([0.0, 1.05])\n",
        "    plt.xlabel('False Positive Rate')\n",
        "    plt.ylabel('True Positive Rate')\n",
        "    plt.title('Some extension of Receiver operating characteristic to multi-class')\n",
        "    plt.legend(loc=\"lower right\")\n",
        "    plt.show()"
      ],
      "execution_count": null,
      "outputs": []
    },
    {
      "cell_type": "markdown",
      "metadata": {
        "id": "saZw3aghWXL6"
      },
      "source": [
        "### *Задание*"
      ]
    },
    {
      "cell_type": "code",
      "metadata": {
        "id": "FFbQqUH2xzrk"
      },
      "source": [
        "import scipy"
      ],
      "execution_count": null,
      "outputs": []
    },
    {
      "cell_type": "code",
      "metadata": {
        "id": "GWFURmz6WYZ_"
      },
      "source": [
        "class LogisticRegression:\n",
        "    def __init__(self, alpha=0.01, max_iter=1000):\n",
        "        self.theta = None\n",
        "        self.alpha = alpha\n",
        "        self.max_iter = max_iter\n",
        "\n",
        "    def _init_theta(self, X):\n",
        "      n_features = X.shape[1]\n",
        "      lim = 1.0 / np.sqrt(n_features)\n",
        "      return np.random.uniform(-lim, lim, (n_features, ))\n",
        "\n",
        "    def fit(self, X_train, y_train):\n",
        "      X_train = np.insert(X_train, 0, 1, axis=1)\n",
        "      self.theta = []\n",
        "\n",
        "      for i in np.unique(y_train):\n",
        "        y_copy = np.where(y_train == i, 1, 0)\n",
        "        theta_partial = self._init_theta(X_train) # np.ones(X_train.shape[1])\n",
        "\n",
        "        for _ in np.arange(self.max_iter):\n",
        "          output = X_train.dot(theta_partial)\n",
        "          errors = y_copy - self._sigmoid(output)\n",
        "          theta_partial += self.alpha * errors.T.dot(X_train)\n",
        "        self.theta.append([theta_partial, i])\n",
        "      \n",
        "      self.theta = np.asarray(self.theta, dtype=object)\n",
        "\n",
        "    def predict(self, X_test):\n",
        "      return np.asarray([self._predict_partial(i) for i in np.insert(X_test, 0, 1, axis=1)])\n",
        "\n",
        "    def _predict_partial(self, x):\n",
        "      return max((x.dot(i[0]), i[1]) for i in self.theta)[1]\n",
        "\n",
        "    def predict_proba(self, X_test):\n",
        "      prob = self._sigmoid(X_test)\n",
        "      scipy.special.expit(prob, out=prob)\n",
        "      if prob.ndim == 1:\n",
        "          return np.vstack([1 - prob, prob]).T\n",
        "      else:\n",
        "          prob /= prob.sum(axis=1).reshape((prob.shape[0], -1))\n",
        "          return prob\n",
        "\n",
        "    def _sigmoid(self, x):\n",
        "      return 1.0 / (1 + np.exp(-x))"
      ],
      "execution_count": null,
      "outputs": []
    },
    {
      "cell_type": "code",
      "metadata": {
        "colab": {
          "base_uri": "https://localhost:8080/",
          "height": 282
        },
        "id": "OF3xriTor7qE",
        "outputId": "922b2021-d3b0-4077-b56a-a393056a21d8"
      },
      "source": [
        "data = datasets.load_iris()\n",
        "X = data.data[:100, :2]\n",
        "y = data.target[:100]\n",
        "\n",
        "setosa = plt.scatter(X[:50,0], X[:50,1], c='b')\n",
        "versicolor = plt.scatter(X[50:,0], X[50:,1], c='r')\n",
        "plt.xlabel(\"Sepal Length\")\n",
        "plt.ylabel(\"Sepal Width\")\n",
        "plt.legend((setosa, versicolor), (\"Setosa\", \"Versicolor\"))\n",
        "sns.despine()"
      ],
      "execution_count": null,
      "outputs": [
        {
          "data": {
            "image/png": "[encoded data removed]",
            "text/plain": [
              "<Figure size 432x288 with 1 Axes>"
            ]
          },
          "metadata": {
            "needs_background": "light"
          },
          "output_type": "display_data"
        }
      ]
    },
    {
      "cell_type": "code",
      "metadata": {
        "colab": {
          "base_uri": "https://localhost:8080/"
        },
        "id": "TZ3t1JsZwT8q",
        "outputId": "402f8932-4136-4908-d8fa-649f01908185"
      },
      "source": [
        "X_train, X_test, y_train, y_test = train_test_split(X, y, test_size=0.3, random_state=17)\n",
        "model = LogisticRegression()\n",
        "model.fit(X_train, y_train)\n",
        "y_pred = model.predict(X_test)\n",
        "sum(y_test == y_pred)"
      ],
      "execution_count": null,
      "outputs": [
        {
          "data": {
            "text/plain": [
              "30"
            ]
          },
          "execution_count": 42,
          "metadata": {},
          "output_type": "execute_result"
        }
      ]
    },
    {
      "cell_type": "code",
      "metadata": {
        "id": "lri7Ekf9wDdq",
        "outputId": "0e0e0bb5-0dc8-4a5d-ba7a-bf2e42cfa0f0"
      },
      "source": [
        "model.theta"
      ],
      "execution_count": null,
      "outputs": [
        {
          "data": {
            "text/plain": [
              "array([[array([ 2.76360099, -5.82874404,  9.28130771]), 0],\n",
              "       [array([-3.03981444,  5.85528026, -9.23785573]), 1]], dtype=object)"
            ]
          },
          "execution_count": 43,
          "metadata": {},
          "output_type": "execute_result"
        }
      ]
    },
    {
      "cell_type": "code",
      "metadata": {
        "colab": {
          "base_uri": "https://localhost:8080/"
        },
        "id": "Jyo8wMbvwZPz",
        "outputId": "9807e205-56f3-4249-f798-cd305fe96143"
      },
      "source": [
        "accuracy_score(y_test, y_pred)"
      ],
      "execution_count": null,
      "outputs": [
        {
          "data": {
            "text/plain": [
              "1.0"
            ]
          },
          "execution_count": 46,
          "metadata": {},
          "output_type": "execute_result"
        }
      ]
    },
    {
      "cell_type": "code",
      "metadata": {
        "id": "QExfZ9K5yLO2"
      },
      "source": [
        "def plot_roc_curve(y_pred, y_test):\n",
        "    fpr, tpr, _ = roc_curve(y_test, y_pred)\n",
        "    roc_auc = auc(fpr, tpr)\n",
        "    plt.figure()\n",
        "    plt.plot(fpr, tpr, color='darkorange', lw=2, label='ROC curve (area = %0.2f)' % roc_auc)\n",
        "    plt.plot([0, 1], [0, 1], color='navy', lw=2, linestyle='--')\n",
        "    plt.xlim([0.0, 1.0])\n",
        "    plt.ylim([0.0, 1.05])\n",
        "    plt.xlabel('False Positive Rate')\n",
        "    plt.ylabel('True Positive Rate')\n",
        "    plt.title('ROC Curve')\n",
        "    plt.legend(loc=\"lower right\")\n",
        "    plt.show()\n",
        "\n",
        "y_pred_probs = model.predict_proba(X_test)[:,1]"
      ],
      "execution_count": null,
      "outputs": []
    },
    {
      "cell_type": "code",
      "metadata": {
        "colab": {
          "base_uri": "https://localhost:8080/",
          "height": 295
        },
        "id": "4fg_-ihRw6zO",
        "outputId": "2177e4eb-b242-4c5b-a36c-d2f4981f0cc1"
      },
      "source": [
        "plot_roc_curve(y_pred, y_test)"
      ],
      "execution_count": null,
      "outputs": [
        {
          "data": {
            "image/png": "[encoded data removed]",
            "text/plain": [
              "<Figure size 432x288 with 1 Axes>"
            ]
          },
          "metadata": {
            "needs_background": "light"
          },
          "output_type": "display_data"
        }
      ]
    },
    {
      "cell_type": "markdown",
      "metadata": {
        "id": "Zm0sJ4ez9d2p"
      },
      "source": [
        "Проверим на случайных данных:"
      ]
    },
    {
      "cell_type": "code",
      "metadata": {
        "id": "qvAs6C0R9Z7i"
      },
      "source": [
        "from sklearn.datasets import make_classification\n",
        "\n",
        "X, y = make_classification(n_samples=10000, n_features=10, n_classes=2, n_informative=5, random_state=17)\n",
        "X_train, X_test, y_train, y_test = train_test_split(X, y, test_size=0.3, random_state=17)\n",
        "\n",
        "model = LogisticRegression(alpha=5735e-7)\n",
        "model.fit(X_train, y_train)\n",
        "y_pred = model.predict(X_test)"
      ],
      "execution_count": null,
      "outputs": []
    },
    {
      "cell_type": "code",
      "metadata": {
        "colab": {
          "base_uri": "https://localhost:8080/"
        },
        "id": "qNVPRPUJ9g-4",
        "outputId": "de8e8f3f-ab7c-40be-8938-abb0644b3cb3"
      },
      "source": [
        "sum(y_test == y_pred) # 2306"
      ],
      "execution_count": null,
      "outputs": [
        {
          "data": {
            "text/plain": [
              "2356"
            ]
          },
          "execution_count": 50,
          "metadata": {},
          "output_type": "execute_result"
        }
      ]
    },
    {
      "cell_type": "code",
      "metadata": {
        "colab": {
          "base_uri": "https://localhost:8080/"
        },
        "id": "osgYgEJl-S5g",
        "outputId": "dc939337-700d-43cb-9733-47a67b7995ec"
      },
      "source": [
        "accuracy_score(y_test, y_pred)"
      ],
      "execution_count": null,
      "outputs": [
        {
          "data": {
            "text/plain": [
              "0.7853333333333333"
            ]
          },
          "execution_count": 51,
          "metadata": {},
          "output_type": "execute_result"
        }
      ]
    },
    {
      "cell_type": "code",
      "metadata": {
        "colab": {
          "base_uri": "https://localhost:8080/"
        },
        "id": "3ZvVFE3P-rTf",
        "outputId": "b4597968-d58a-4c62-cc9e-39772619a1cd"
      },
      "source": [
        "confusion_matrix(y_test, y_pred)"
      ],
      "execution_count": null,
      "outputs": [
        {
          "data": {
            "text/plain": [
              "array([[1075,  417],\n",
              "       [ 227, 1281]])"
            ]
          },
          "execution_count": 52,
          "metadata": {},
          "output_type": "execute_result"
        }
      ]
    },
    {
      "cell_type": "code",
      "metadata": {
        "colab": {
          "base_uri": "https://localhost:8080/",
          "height": 295
        },
        "id": "NyJs5WPr-upU",
        "outputId": "3affb21c-3f2b-41c8-c250-d6e9b77199e9"
      },
      "source": [
        "def plot_roc_curve(y_pred, y_test):\n",
        "    fpr, tpr, _ = roc_curve(y_test, y_pred)\n",
        "    roc_auc = auc(fpr, tpr)\n",
        "    plt.figure()\n",
        "    plt.plot(fpr, tpr, color='darkorange', lw=2, label='ROC curve (area = %0.2f)' % roc_auc)\n",
        "    plt.plot([0, 1], [0, 1], color='navy', lw=2, linestyle='--')\n",
        "    plt.xlim([0.0, 1.0])\n",
        "    plt.ylim([0.0, 1.05])\n",
        "    plt.xlabel('False Positive Rate')\n",
        "    plt.ylabel('True Positive Rate')\n",
        "    plt.title('ROC Curve')\n",
        "    plt.legend(loc=\"lower right\")\n",
        "    plt.show()\n",
        "\n",
        "y_pred = model.predict_proba(X_test)[:,1]\n",
        "plot_roc_curve(y_pred, y_test)"
      ],
      "execution_count": null,
      "outputs": [
        {
          "data": {
            "image/png": "[encoded data removed]",
            "text/plain": [
              "<Figure size 432x288 with 1 Axes>"
            ]
          },
          "metadata": {
            "needs_background": "light"
          },
          "output_type": "display_data"
        }
      ]
    },
    {
      "cell_type": "markdown",
      "metadata": {
        "id": "3SYm_eaq_Pmn"
      },
      "source": [
        "#### Пример с многоклассовой классификацией"
      ]
    },
    {
      "cell_type": "code",
      "metadata": {
        "colab": {
          "base_uri": "https://localhost:8080/"
        },
        "id": "axDrrbOa_W3m",
        "outputId": "524e18c9-f820-4f6b-885b-ec23f2dfa628"
      },
      "source": [
        "data = datasets.load_iris()\n",
        "X = data.data\n",
        "y = data.target\n",
        "\n",
        "X_train, X_test, y_train, y_test = train_test_split(X, y, test_size=0.3, random_state=17)\n",
        "\n",
        "model = LogisticRegression()\n",
        "model.fit(X_train, y_train)\n",
        "\n",
        "y_pred = model.predict(X_test)\n",
        "print(sum(y_test == y_pred)) # 42\n",
        "print(accuracy_score(y_test, y_pred)) #0.93333333333333335\n",
        "print(confusion_matrix(y_test, y_pred)) # array([[12,  0,  0], [ 0, 16,  3], [ 0,  0, 14]])"
      ],
      "execution_count": null,
      "outputs": [
        {
          "name": "stdout",
          "output_type": "stream",
          "text": [
            "39\n",
            "0.8666666666666667\n",
            "[[12  0  0]\n",
            " [ 0 16  3]\n",
            " [ 0  3 11]]\n"
          ]
        }
      ]
    },
    {
      "cell_type": "code",
      "metadata": {
        "id": "xjXAQVmN_iFF"
      },
      "source": [
        "def plot_roc_curve(y_predict_proba, y_test, n_classes=3):\n",
        "    # Compute ROC curve and ROC AUC for each class\n",
        "    n_classes = 3\n",
        "    fpr = {}\n",
        "    tpr = {}\n",
        "    roc_auc = {}\n",
        "    all_y_test_i = np.array([])\n",
        "    all_y_predict_proba = np.array([])\n",
        "\n",
        "    for i in range(n_classes):\n",
        "        y_test_i = [1 if yi == i else 0 for yi in y_test]\n",
        "        all_y_test_i = np.concatenate([all_y_test_i, y_test_i])\n",
        "        all_y_predict_proba = np.concatenate([all_y_predict_proba, y_predict_proba[:, i]])\n",
        "        fpr[i], tpr[i], _ = roc_curve(y_test_i, y_predict_proba[:, i])\n",
        "        roc_auc[i] = auc(fpr[i], tpr[i])\n",
        "    \n",
        "    # Compute micro-average ROC curve and ROC area\n",
        "    fpr[\"average\"], tpr[\"average\"], _ = roc_curve(all_y_test_i, all_y_predict_proba)\n",
        "    roc_auc[\"average\"] = auc(fpr[\"average\"], tpr[\"average\"])\n",
        "\n",
        "    # Plot average ROC Curve\n",
        "    plt.figure()\n",
        "    plt.plot(fpr[\"average\"], tpr[\"average\"],\n",
        "        label='Average ROC curve (area = {0:0.2f})'.format(roc_auc[\"average\"]),\n",
        "        color='deeppink', linestyle=':', linewidth=4)\n",
        "\n",
        "    # Plot each individual ROC curve\n",
        "    for i in range(n_classes):\n",
        "        plt.plot(fpr[i], tpr[i], lw=2, label='ROC curve of class {0} (area = {1:0.2f})'.format(i, roc_auc[i]))\n",
        "\n",
        "    plt.plot([0, 1], [0, 1], 'k--', lw=2)\n",
        "    plt.xlim([0.0, 1.0])\n",
        "    plt.ylim([0.0, 1.05])\n",
        "    plt.xlabel('False Positive Rate')\n",
        "    plt.ylabel('True Positive Rate')\n",
        "    plt.title('Some extension of Receiver operating characteristic to multi-class')\n",
        "    plt.legend(loc=\"lower right\")\n",
        "    plt.show()"
      ],
      "execution_count": null,
      "outputs": []
    },
    {
      "cell_type": "code",
      "metadata": {
        "colab": {
          "base_uri": "https://localhost:8080/",
          "height": 364
        },
        "id": "wGmlvBXxBNMB",
        "outputId": "980d063f-b16c-4f74-c0e3-a07d48d935cf"
      },
      "source": [
        "plot_roc_curve(model.predict_proba(X_test), model.predict(X_test), n_classes=3)"
      ],
      "execution_count": null,
      "outputs": [
        {
          "data": {
            "image/png": "[encoded data removed]",
            "text/plain": [
              "<Figure size 432x288 with 1 Axes>"
            ]
          },
          "metadata": {
            "needs_background": "light"
          },
          "output_type": "display_data"
        }
      ]
    }
  ]
}